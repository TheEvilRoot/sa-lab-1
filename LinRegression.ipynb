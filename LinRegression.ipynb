{
 "cells": [
  {
   "cell_type": "code",
   "execution_count": 126,
   "id": "prescribed-providence",
   "metadata": {},
   "outputs": [],
   "source": [
    "import numpy as np\n",
    "import csv\n",
    "import matplotlib.pyplot as plt\n",
    "\n",
    "def isNotEmpty(x):\n",
    "    return len(x) > 0\n",
    "\n",
    "def parseFile(fileName=\"iris.data\", x=0, y=1):\n",
    "    f = open(fileName, \"r\")\n",
    "    reader = csv.reader(f)\n",
    "    data = list(filter(isNotEmpty, list(reader)))\n",
    "    dataX = [float(d[x]) for d in data]\n",
    "    dataY = [float(d[y]) for d in data]\n",
    "    return dataX, dataY, len(data)"
   ]
  },
  {
   "cell_type": "markdown",
   "id": "yellow-devices",
   "metadata": {},
   "source": [
    "Linear regression using sklearn to check\n",
    "------------------------------------------------"
   ]
  },
  {
   "cell_type": "code",
   "execution_count": 127,
   "id": "caroline-commander",
   "metadata": {},
   "outputs": [
    {
     "name": "stdout",
     "output_type": "stream",
     "text": [
      "[[-0.05726823]]\n"
     ]
    },
    {
     "data": {
      "text/plain": [
       "[<matplotlib.lines.Line2D at 0x119c71430>]"
      ]
     },
     "execution_count": 127,
     "metadata": {},
     "output_type": "execute_result"
    },
    {
     "data": {
      "image/png": "[encoded data removed]",
      "text/plain": [
       "<Figure size 432x288 with 1 Axes>"
      ]
     },
     "metadata": {
      "needs_background": "light"
     },
     "output_type": "display_data"
    }
   ],
   "source": [
    "%matplotlib inline \n",
    "from sklearn.linear_model import LinearRegression \n",
    "\n",
    "paramX, paramY, size = parseFile()\n",
    "paramX = np.array(list(zip(paramX)))\n",
    "paramY = np.array(list(zip(paramY)))\n",
    "\n",
    "model = LinearRegression()\n",
    "model.fit(paramX, paramY)\n",
    "\n",
    "print(model.coef_)\n",
    "\n",
    "linRegression = model.predict(paramX)\n",
    "\n",
    "plt.plot(paramX, paramY, linestyle='', marker='.', color='red')\n",
    "plt.plot(paramX, linRegression, linestyle='solid', marker='|', color='green')"
   ]
  },
  {
   "cell_type": "markdown",
   "id": "greek-advance",
   "metadata": {},
   "source": [
    "Manual linear regression implementation\n",
    "------------------------------------------------"
   ]
  },
  {
   "cell_type": "code",
   "execution_count": 128,
   "id": "three-mystery",
   "metadata": {},
   "outputs": [
    {
     "name": "stdout",
     "output_type": "stream",
     "text": [
      "3.3886373794881335 -0.05726823379717051\n"
     ]
    },
    {
     "data": {
      "text/plain": [
       "[<matplotlib.lines.Line2D at 0x119cd1310>]"
      ]
     },
     "execution_count": 128,
     "metadata": {},
     "output_type": "execute_result"
    },
    {
     "data": {
      "image/png": "[encoded data removed]",
      "text/plain": [
       "<Figure size 432x288 with 1 Axes>"
      ]
     },
     "metadata": {
      "needs_background": "light"
     },
     "output_type": "display_data"
    }
   ],
   "source": [
    "%matplotlib inline \n",
    "\n",
    "def deviation(x, y, mx, my, n):\n",
    "    return np.sum(y * x) - n * my * mx\n",
    "\n",
    "paramX, paramY, size = parseFile()\n",
    "paramX = np.array(paramX)\n",
    "paramY = np.array(paramY)\n",
    "\n",
    "meanX = np.mean(paramX)\n",
    "meanY = np.mean(paramY)\n",
    "\n",
    "crossDiv = deviation(paramX, paramY, meanX, meanY, size)\n",
    "xDiv = deviation(paramX, paramX, meanX, meanX, size)\n",
    "\n",
    "coefY = crossDiv / xDiv\n",
    "coefX = meanY - coefY * meanX\n",
    "\n",
    "linRegression = coefX + coefY * paramX\n",
    "\n",
    "print(coefX, coefY)\n",
    "\n",
    "plt.plot(paramX, paramY, linestyle='', marker='.', color='red')\n",
    "plt.plot(paramX, linRegression, linestyle='solid', marker='|', color='green')"
   ]
  },
  {
   "cell_type": "markdown",
   "id": "greatest-saskatchewan",
   "metadata": {},
   "source": [
    "Correlation coefficient using numpy\n",
    "-----------------------------------------"
   ]
  },
  {
   "cell_type": "code",
   "execution_count": 129,
   "id": "fifth-champagne",
   "metadata": {},
   "outputs": [
    {
     "data": {
      "text/plain": [
       "-0.10936924995064937"
      ]
     },
     "execution_count": 129,
     "metadata": {},
     "output_type": "execute_result"
    }
   ],
   "source": [
    "paramX, paramY, size = parseFile()\n",
    "np.corrcoef(np.array(paramX), np.array(paramY))[0][1]"
   ]
  },
  {
   "cell_type": "markdown",
   "id": "selective-bracelet",
   "metadata": {},
   "source": [
    "Correlation coefficient using formula\n",
    "-------------------------------------------\n",
    "\n",
    "$r = \\frac{n\\sum{xy}-(\\sum{x})(\\sum{y})}{\\sqrt{[n\\sum{x^2} - (\\sum{x})^2][n\\sum{y^2} - (\\sum{y})^2]}}$"
   ]
  },
  {
   "cell_type": "code",
   "execution_count": 130,
   "id": "perfect-mailing",
   "metadata": {},
   "outputs": [
    {
     "data": {
      "text/plain": [
       "-0.10936924995065972"
      ]
     },
     "execution_count": 130,
     "metadata": {},
     "output_type": "execute_result"
    }
   ],
   "source": [
    "paramX, paramY, size = parseFile()\n",
    "paramX = np.array(paramX)\n",
    "paramY = np.array(paramY)\n",
    "\n",
    "f = lambda n, x: n * np.sum(x * x) - np.sum(x) ** 2\n",
    "\n",
    "r = size * np.sum(paramX * paramY) - np.sum(paramX) * np.sum(paramY)\n",
    "d = np.sqrt(f(size, paramX) * f(size, paramY))\n",
    "r / d"
   ]
  }
 ],
 "metadata": {
  "kernelspec": {
   "display_name": "Python 3",
   "language": "python",
   "name": "python3"
  },
  "language_info": {
   "codemirror_mode": {
    "name": "ipython",
    "version": 3
   },
   "file_extension": ".py",
   "mimetype": "text/x-python",
   "name": "python",
   "nbconvert_exporter": "python",
   "pygments_lexer": "ipython3",
   "version": "3.8.2"
  }
 },
 "nbformat": 4,
 "nbformat_minor": 5
}
